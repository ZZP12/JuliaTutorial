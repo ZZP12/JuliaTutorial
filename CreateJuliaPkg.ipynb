{
 "cells": [
  {
   "cell_type": "markdown",
   "metadata": {},
   "source": [
    "# A tutoiral on how to create a new package in Julia\n",
    "“sh>” indicates a shell command line, “julia>” denotes the Julia REPL and “pkg>” denotes the pkg mode, which can be entered by typing “]” in REPL"
   ]
  },
  {
   "cell_type": "markdown",
   "metadata": {},
   "source": [
    "1. in julia, run  \n",
    "```julia \n",
    "using Pkg\n",
    "Pkg.generate(\"PkgName\")\n",
    "```\n",
    "to generate corresponding folder which will contain an \"__src__\" (has a \"__PkgName.jl__\") and a file \"Project.toml\". \n",
    "\n",
    "2. (optional) go back to the shell command line, change folder name to be consistent with the convention \"PkgName.jl\" by running in shell \n",
    "```\n",
    "mv PkgName PkgName.jl\n",
    "```\n",
    "\n",
    "3. go into the folder just generated \n",
    "```\n",
    "cd PkgName.jl \n",
    "```\n",
    "then, enter __pkg__ mode, running \n",
    "```julia \n",
    "(v1.0) pkg> activate .                # enter virtual environment of package PkgName\n",
    "(Foo) pkg> add Test                   # Test is the module for unit tests, add all deps here \n",
    "```\n",
    "This updates the “[deps]” section of “Project.toml”. We need the “Test” package to run tests for the new package.\n",
    "\n",
    "Then, go back to the shell,\n",
    "```\n",
    "sh> rm Manifest.toml     # (optional) Manifest.toml is not important for our purpose, can remove it\n",
    "sh> echo 'julia 1.0' > REQUIRE        # but we need this, a \"REQUIRE\" file \n",
    "sh> mkdir -p test && touch test/runtests.jl  # create \"test\" folder and \"runtests.jl\" file \n",
    "```\n",
    "\n",
    "4. fill in src/PkgName.jl\n",
    "\n",
    "edit “__PkgName.jl/src/PkgName.jl__” to write the actual library code. \n",
    "\n",
    "5. creating test\n",
    "\n",
    "edit “test/runtests.jl” following [the tutorial on Unit Test](https://docs.julialang.org/en/v1/stdlib/Test/).\n",
    "\n",
    "6. running and testing package locally \n",
    "```julia\n",
    "(v1.0) pkg> dev .\n",
    "(v1.0) pkg> test PkgName\n",
    "```\n",
    "Note that, the current working directory should always be __PkgName.jl__."
   ]
  },
  {
   "cell_type": "markdown",
   "metadata": {},
   "source": [
    "An example of __PkgName.jl__\n",
    "```julia \n",
    "module PkgName\n",
    "using Lib  # all packages used \n",
    "\n",
    "using BigLib: thing1, thing2\n",
    "\n",
    "import Base.show\n",
    "\n",
    "export MyType, foo  # interfaces users can use \n",
    "\n",
    "struct MyType\n",
    "    x\n",
    "end\n",
    "```\n",
    "More examples of Modules can be found from [Julia Module](https://docs.julialang.org/en/v1/manual/modules/).\n"
   ]
  },
  {
   "cell_type": "markdown",
   "metadata": {},
   "source": [
    "An example of \"runtests.jl\" from [DifferentialEquations.jl](https://github.com/JuliaDiffEq/DifferentialEquations.jl/blob/master/test/runtests.jl).\n",
    "\n",
    "In this file, one needs to include PkgName (the package being tested), Test (package to run tests), and any other packages being used.\n",
    "```julia\n",
    "using DifferentialEquations, Test, SafeTestsets \n",
    "\n",
    "println(\"Starting tests\")\n",
    "@time @safetestset \"Default Discrete Algorithm\" begin include(\"default_discrete_alg_test.jl\") end\n",
    "@time @safetestset \"Default ODE Algorithm\" begin include(\"default_ode_alg_test.jl\") end\n",
    "@time @safetestset \"Default Steady State Algorithm\" begin include(\"default_steady_state_alg_test.jl\") end\n",
    "@time @safetestset \"Default SDE Algorithm\" begin include(\"default_sde_alg_test.jl\") end\n",
    "@time @safetestset \"Default RODE Algorithm\" begin include(\"default_rode_alg_test.jl\") end\n",
    "@time @safetestset \"Default DDE Algorithm\" begin include(\"default_dde_alg_test.jl\") end\n",
    "@time @safetestset \"Default DAE Algorithm\" begin include(\"default_dae_alg_test.jl\") end\n",
    "# each test here is very concise. \n",
    "```\n",
    "One of the tests \"default_discrete_alg_test.jl\" looks like this: \n",
    "```julia \n",
    "# at least, needs to use two packages: PkgName and Test\n",
    "using DifferentialEquations, Test\n",
    "\n",
    "prob = DiscreteProblem(zeros(2),(0.0,1.0))\n",
    "sol = solve(prob)\n",
    "@test typeof(sol.alg) <: FunctionMap\n",
    "```\n",
    "\"runtests.jl\" and \"default_discrete_alg_test.jl\" should be put under \"test\" folder.  "
   ]
  },
  {
   "cell_type": "code",
   "execution_count": null,
   "metadata": {},
   "outputs": [],
   "source": []
  }
 ],
 "metadata": {
  "kernelspec": {
   "display_name": "Julia 1.1.0",
   "language": "julia",
   "name": "julia-1.1"
  },
  "language_info": {
   "file_extension": ".jl",
   "mimetype": "application/julia",
   "name": "julia",
   "version": "1.1.0"
  }
 },
 "nbformat": 4,
 "nbformat_minor": 2
}
